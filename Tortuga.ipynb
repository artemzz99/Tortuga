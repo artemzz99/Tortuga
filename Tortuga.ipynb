{
 "cells": [
  {
   "cell_type": "code",
   "execution_count": 3,
   "metadata": {
    "ExecuteTime": {
     "end_time": "2020-10-27T12:01:37.889140Z",
     "start_time": "2020-10-27T12:01:37.871140Z"
    }
   },
   "outputs": [],
   "source": [
    "class Ship:\n",
    "    \n",
    "    '''\n",
    "    Класс корабля:\n",
    "    crew - размер экипажа\n",
    "    sick - количество изначально зараженных\n",
    "    infected - объект-носитель инфекции\n",
    "    inf_params - параметры поведения носителя\n",
    "    '''\n",
    "    \n",
    "    def __init__(self, crew, sick, infected, inf_params):\n",
    "        self.crew = crew\n",
    "        self.isolation = 0\n",
    "        self.active = crew-self.isolation-sick\n",
    "        self._infected = infected\n",
    "        self._inf_params = inf_params\n",
    "        self.sick = [self._infected(**self._inf_params)]*sick\n",
    "        self.good = self.crew-sick\n",
    "        self.days = 0\n",
    "        \n",
    "    def next_day(self):\n",
    "        \n",
    "        '''\n",
    "        Функция обновления статистики корабля в новый день пребывания в море\n",
    "        '''\n",
    "        \n",
    "        if self.isolation<self.crew:\n",
    "            self.days += 1\n",
    "            new = min(sum([x.try_infect() for x in self.sick]), self.good)\n",
    "            self.isolation = sum([i.inkub==0 for i in self.sick])\n",
    "            self.sick += ([self._infected(**self._inf_params) for _ in range(new)])\n",
    "            self.good += -new\n",
    "            #print(f'Шел {self.days} день, Заразилось {new}, всего зараженных {self.good}, на изоляции {self.isolation}')\n",
    "            pass\n",
    "       "
   ]
  },
  {
   "cell_type": "code",
   "execution_count": 4,
   "metadata": {
    "ExecuteTime": {
     "end_time": "2020-10-27T12:01:41.258611Z",
     "start_time": "2020-10-27T12:01:38.497191Z"
    }
   },
   "outputs": [],
   "source": [
    "import numpy as np\n",
    "\n",
    "class Infected:\n",
    "    \n",
    "    '''\n",
    "    Пример объект-носителя инфекции\n",
    "    Количество зараженных объетом в день имеет биномиальное распредение B(n, p)\n",
    "    После появления симпотомов данный объект самоизолируется и перестает заражать окружающих\n",
    "    '''\n",
    "    \n",
    "    def __init__(self, inkub, n, p):\n",
    "        self.inkub = inkub\n",
    "        self.n = n\n",
    "        self.p = p\n",
    "        \n",
    "    def try_infect(self):\n",
    "        if self.inkub:\n",
    "            self.inkub += -1\n",
    "            return np.random.binomial(self.n, self.p)\n",
    "        else:\n",
    "            return 0"
   ]
  },
  {
   "cell_type": "code",
   "execution_count": 29,
   "metadata": {
    "ExecuteTime": {
     "end_time": "2020-10-27T13:12:44.130615Z",
     "start_time": "2020-10-27T13:12:44.118617Z"
    }
   },
   "outputs": [],
   "source": [
    "def distrib_days(pop, n_sick, inf_params, n_exp):\n",
    "    \n",
    "    '''\n",
    "    Функция сбора статистики по экспериментам\n",
    "    Выполняет подсчет количества дней, на который каждый побывал на изоляции\n",
    "    И выводит распределение этих дней\n",
    "    '''\n",
    "    \n",
    "    lst = []\n",
    "    for _ in range(n_exp):\n",
    "        tortuga = Ship(pop, n_sick, infected=Infected, inf_params=inf_params)\n",
    "        while tortuga.isolation!=pop:\n",
    "            tortuga.next_day()\n",
    "        lst.append(tortuga.days)\n",
    "\n",
    "    return pd.Series(lst).hist(bins=22, figsize=(12,7))"
   ]
  },
  {
   "cell_type": "markdown",
   "metadata": {},
   "source": [
    "Пример использования: Боцман корабля «Тортуга» заразился неизвестным вирусом в последний день на суше перед долгим плаванием. Симптомы у носителя вируса появляются на 14-й день после дня заражения. На корабле «Тортуга» больной с симптомами сразу же отправляется на самоизоляцию в трюм и теряет возможность заражать других (в день проявления симптомов больной никого не заражает). Количество людей, которых заразит один носитель вируса в день при неограниченном кол-ве жертв, имеет биномиальное распределение с параметрами n=10 и p=0.08, и не зависит от кол-ва других носителей. На корабле 124 человека.\n",
    "\n",
    "На какой день плавания наиболее вероятно, что обнаружится, что все люди на корабле побывали в трюме?"
   ]
  },
  {
   "cell_type": "markdown",
   "metadata": {},
   "source": [
    "### Отправляем в 100000 плаваний"
   ]
  },
  {
   "cell_type": "code",
   "execution_count": 31,
   "metadata": {
    "ExecuteTime": {
     "end_time": "2020-10-27T13:36:15.281735Z",
     "start_time": "2020-10-27T13:14:54.316149Z"
    }
   },
   "outputs": [
    {
     "data": {
      "text/plain": [
       "<matplotlib.axes._subplots.AxesSubplot at 0x25115612848>"
      ]
     },
     "execution_count": 31,
     "metadata": {},
     "output_type": "execute_result"
    },
    {
     "data": {
      "image/png": "[encoded data removed]",
      "text/plain": [
       "<Figure size 864x504 with 1 Axes>"
      ]
     },
     "metadata": {
      "needs_background": "light"
     },
     "output_type": "display_data"
    }
   ],
   "source": [
    "#Экипаж\n",
    "crew = 124\n",
    "\n",
    "#Боцман\n",
    "n_sick = 1\n",
    "\n",
    "#Параметры инфекции\n",
    "inf_params = {'inkub':14, 'n':10, 'p':0.08}\n",
    "\n",
    "n_exp = 100000\n",
    "\n",
    "distrib_days(crew, n_sick, inf_params, n_exp)"
   ]
  },
  {
   "cell_type": "markdown",
   "metadata": {},
   "source": [
    "В соответствии с условиями задачи инфекция распространяется довольно стремительно\n",
    "И наиболее вероятно, что все побывают на карантине на 23 день плавания"
   ]
  }
 ],
 "metadata": {
  "kernelspec": {
   "display_name": "Python 3",
   "language": "python",
   "name": "python3"
  },
  "language_info": {
   "codemirror_mode": {
    "name": "ipython",
    "version": 3
   },
   "file_extension": ".py",
   "mimetype": "text/x-python",
   "name": "python",
   "nbconvert_exporter": "python",
   "pygments_lexer": "ipython3",
   "version": "3.7.6"
  }
 },
 "nbformat": 4,
 "nbformat_minor": 4
}
